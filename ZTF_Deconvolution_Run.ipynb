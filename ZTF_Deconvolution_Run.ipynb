{
 "cells": [
  {
   "cell_type": "markdown",
   "metadata": {
    "id": "Dd6XSTGwQsnr"
   },
   "source": [
    "See https://irsa.ipac.caltech.edu/docs/program_interface/ztf_metadata.html\n",
    "\n",
    "- sciimg.fits\n",
    "- mskimg.fits\n",
    "- sciimgdaopsfcent.fits\n",
    "- sciimgdao.psf (only for spatial variation of PSF)\n",
    "- refimg.fits\n",
    "\n",
    "\n",
    "```\n",
    "R filter\n",
    "l~0,b~0:https://irsa.ipac.caltech.edu/ibe/data/ztf/products/sci/2021/0513/459826/ztf_20210513459826_000233_zr_c15_o_q3_sciimg.fits\n",
    "l~100,b~10:https://irsa.ipac.caltech.edu/ibe/data/ztf/products/sci/2022/0706/370127/ztf_20220706370127_000829_zr_c10_o_q4_sciimg.fits (seeing ~ 1.84453 arcsec)\n",
    "l~50,b~30:https://irsa.ipac.caltech.edu/ibe/data/ztf/products/sci/2023/1021/119745/ztf_20231021119745_000635_zr_c12_o_q4_sciimg.fits\n",
    "l~200,b~45:https://irsa.ipac.caltech.edu/ibe/data/ztf/products/sci/2023/0121/340139/ztf_20230121340139_000619_zr_c11_o_q2_sciimg.fits\n",
    "l~300,b~60:https://irsa.ipac.caltech.edu/ibe/data/ztf/products/sci/2020/0306/404421/ztf_20200306404421_000423_zr_c07_o_q1_sciimg.fits\n",
    "l~150,b~90:https://irsa.ipac.caltech.edu/ibe/data/ztf/products/sci/2022/1120/493183/ztf_20221120493183_000626_zr_c12_o_q2_sciimg.fits (seeing ~ 3.14735 arcsec)\n",
    "Dwarf galaxy (NGC1569):https://irsa.ipac.caltech.edu/ibe/data/ztf/products/sci/2021/0218/206262/ztf_20210218206262_000811_zr_c16_o_q4_sciimg.fits\n",
    "\n",
    "I filter\n",
    "l~100,b~10:https://irsa.ipac.caltech.edu/ibe/data/ztf/products/sci/2022/0831/366910/ztf_20220831366910_000829_zi_c10_o_q4_sciimg.fits (seeing ~ 1.82194 arcsec)\n",
    "l~150,b~90:https://irsa.ipac.caltech.edu/ibe/data/ztf/products/sci/2022/0301/372245/ztf_20220301372245_000626_zi_c12_o_q2_sciimg.fits (seeing ~ 3.31418 arcsec)\n",
    "\n",
    "G filter\n",
    "l~100,b~10:https://irsa.ipac.caltech.edu/ibe/data/ztf/products/sci/2022/0901/326748/ztf_20220901326748_000829_zg_c10_o_q4_sciimg.fits (seeing ~ 1.91277 arcsec)\n",
    "l~150,b~90:https://irsa.ipac.caltech.edu/ibe/data/ztf/products/sci/2022/1126/507882/ztf_20221126507882_000626_zg_c12_o_q2_sciimg.fits (seeing ~ 3.10998 arcsec)\n",
    "\n",
    "\n",
    "251 ID\n",
    "l~200, b~ -60: https://irsa.ipac.caltech.edu/ibe/data/ztf/products/sci/2018/0831/500891/ztf_20180831500891_000251_zr_c16_o_q4_sciimg.fits\n",
    "```"
   ]
  },
  {
   "cell_type": "code",
   "execution_count": null,
   "metadata": {
    "execution": {
     "iopub.execute_input": "2024-03-11T12:30:47.316033Z",
     "iopub.status.busy": "2024-03-11T12:30:47.315674Z",
     "iopub.status.idle": "2024-03-11T12:30:47.345238Z",
     "shell.execute_reply": "2024-03-11T12:30:47.344473Z",
     "shell.execute_reply.started": "2024-03-11T12:30:47.316003Z"
    },
    "id": "JtPpzlvRNYue"
   },
   "outputs": [],
   "source": [
    "!git clone https://<YOUR_KEY_HERE>@github.com/Yash-10/deconv_ztf.git"
   ]
  },
  {
   "cell_type": "code",
   "execution_count": null,
   "metadata": {},
   "outputs": [],
   "source": [
    "!cp /kaggle/working/deconv_ztf/*.py /kaggle/working\n",
    "!cp -r /kaggle/working/deconv_ztf/sgp_reconstruction_results /kaggle/working"
   ]
  },
  {
   "cell_type": "markdown",
   "metadata": {
    "id": "a2c14ebc-356f-4fa0-8f1a-3b303d8a9bcb"
   },
   "source": [
    "# Imports"
   ]
  },
  {
   "cell_type": "code",
   "execution_count": null,
   "metadata": {
    "execution": {
     "iopub.execute_input": "2024-03-11T16:24:52.925880Z",
     "iopub.status.busy": "2024-03-11T16:24:52.925445Z",
     "iopub.status.idle": "2024-03-11T16:25:30.480069Z",
     "shell.execute_reply": "2024-03-11T16:25:30.478863Z",
     "shell.execute_reply.started": "2024-03-11T16:24:52.925840Z"
    },
    "id": "tHy8MLA13JiH",
    "outputId": "cf5250bb-f15d-4cdb-fae8-40dbdc3549dc"
   },
   "outputs": [],
   "source": [
    "!pip install -U photutils\n",
    "!pip install -U reproject"
   ]
  },
  {
   "cell_type": "code",
   "execution_count": null,
   "metadata": {
    "execution": {
     "iopub.execute_input": "2024-03-11T16:25:30.482147Z",
     "iopub.status.busy": "2024-03-11T16:25:30.481791Z",
     "iopub.status.idle": "2024-03-11T16:25:32.821865Z",
     "shell.execute_reply": "2024-03-11T16:25:32.820501Z",
     "shell.execute_reply.started": "2024-03-11T16:25:30.482111Z"
    },
    "id": "774f6b5b-2178-4c35-8b18-956b01543a8a"
   },
   "outputs": [],
   "source": [
    "import matplotlib.pyplot as plt\n",
    "from matplotlib.gridspec import GridSpec\n",
    "import seaborn as sns\n",
    "sns.set_style('white')\n",
    "sns.set_context(\"paper\", font_scale = 2)\n",
    "sns.set(style='ticks')\n",
    "\n",
    "import os\n",
    "import numpy as np\n",
    "import pandas as pd\n",
    "import glob\n",
    "from astropy.io import fits\n",
    "from scipy.stats import pearsonr\n",
    "from sklearn.metrics import r2_score\n",
    "\n",
    "import subprocess\n",
    "\n",
    "from astropy.io import fits\n",
    "from astropy.visualization import MinMaxInterval, ImageNormalize, SqrtStretch, ZScaleInterval, PercentileInterval, LogStretch\n",
    "\n",
    "from scipy.stats import binned_statistic\n",
    "from scipy.stats import median_abs_deviation\n",
    "\n",
    "from IPython.display import Image"
   ]
  },
  {
   "cell_type": "code",
   "execution_count": null,
   "metadata": {
    "execution": {
     "iopub.execute_input": "2024-03-11T16:25:32.825545Z",
     "iopub.status.busy": "2024-03-11T16:25:32.824964Z",
     "iopub.status.idle": "2024-03-11T16:25:47.785448Z",
     "shell.execute_reply": "2024-03-11T16:25:47.784208Z",
     "shell.execute_reply.started": "2024-03-11T16:25:32.825512Z"
    },
    "id": "VfmsM9ih22YZ",
    "outputId": "c42410e2-8c50-4417-a5e9-577a2374407d"
   },
   "outputs": [],
   "source": [
    "!sudo apt-get update\n",
    "!sudo apt-get install -y source-extractor"
   ]
  },
  {
   "cell_type": "code",
   "execution_count": null,
   "metadata": {
    "execution": {
     "iopub.execute_input": "2024-03-11T16:25:47.787564Z",
     "iopub.status.busy": "2024-03-11T16:25:47.787111Z",
     "iopub.status.idle": "2024-03-11T16:25:48.928141Z",
     "shell.execute_reply": "2024-03-11T16:25:48.926766Z",
     "shell.execute_reply.started": "2024-03-11T16:25:47.787515Z"
    },
    "id": "13hYtNJ829_N",
    "outputId": "b4b79f8e-cd01-4cca-c88f-06b61ccd85b9"
   },
   "outputs": [],
   "source": [
    "!source-extractor"
   ]
  },
  {
   "cell_type": "code",
   "execution_count": null,
   "metadata": {
    "execution": {
     "iopub.execute_input": "2024-03-11T16:25:48.931024Z",
     "iopub.status.busy": "2024-03-11T16:25:48.930541Z",
     "iopub.status.idle": "2024-03-11T16:26:56.726057Z",
     "shell.execute_reply": "2024-03-11T16:26:56.724880Z",
     "shell.execute_reply.started": "2024-03-11T16:25:48.930978Z"
    },
    "id": "vmAS1DIG3Bfc",
    "outputId": "7a165015-8657-41ff-c5b3-21b8eb110af3"
   },
   "outputs": [],
   "source": [
    "# We use Topcat 4.8-7, which is not the latest version.\n",
    "# Later versions such as v4.8-8/v4.9, for example, may provide different symmetric crossmatching than v4.8-7.\n",
    "# However, the Topcat/STILTS website (https://www.star.bris.ac.uk/~mbt/topcat/sun253/versions.html) says that one is not necessarily better than the other.\n",
    "!wget --directory-prefix sgp_reconstruction_results https://www.star.bristol.ac.uk/mbt/releases/topcat/v4.8-7/topcat-full.jar\n",
    "!wget --directory-prefix sgp_reconstruction_results https://www.star.bris.ac.uk/~mbt/topcat/topcat\n",
    "%cd sgp_reconstruction_results\n",
    "!chmod +x topcat\n",
    "!./topcat -stilts -version\n",
    "!./topcat -version\n",
    "%cd .."
   ]
  },
  {
   "cell_type": "markdown",
   "metadata": {
    "id": "yKtho0bk2kLI"
   },
   "source": [
    "# Deconvolution run"
   ]
  },
  {
   "cell_type": "markdown",
   "metadata": {
    "id": "7KmvBklS5_3i"
   },
   "source": [
    "For this notebook, uncomment one of the lines in the prefixes below on which deconvolution must be run."
   ]
  },
  {
   "cell_type": "code",
   "execution_count": null,
   "metadata": {
    "execution": {
     "iopub.execute_input": "2024-03-11T16:29:49.763442Z",
     "iopub.status.busy": "2024-03-11T16:29:49.762952Z",
     "iopub.status.idle": "2024-03-11T16:29:49.770733Z",
     "shell.execute_reply": "2024-03-11T16:29:49.769497Z",
     "shell.execute_reply.started": "2024-03-11T16:29:49.763408Z"
    },
    "id": "73GXW_7D2ojD"
   },
   "outputs": [],
   "source": [
    "prefixes = [\n",
    "    'https://irsa.ipac.caltech.edu/ibe/data/ztf/products/sci/2021/0513/459826/ztf_20210513459826_000233_zr_c15_o_q3_',\n",
    "    'https://irsa.ipac.caltech.edu/ibe/data/ztf/products/sci/2022/0706/370127/ztf_20220706370127_000829_zr_c10_o_q4_',\n",
    "    'https://irsa.ipac.caltech.edu/ibe/data/ztf/products/sci/2023/1021/119745/ztf_20231021119745_000635_zr_c12_o_q4_',\n",
    "    'https://irsa.ipac.caltech.edu/ibe/data/ztf/products/sci/2023/0121/340139/ztf_20230121340139_000619_zr_c11_o_q2_',\n",
    "    'https://irsa.ipac.caltech.edu/ibe/data/ztf/products/sci/2020/0306/404421/ztf_20200306404421_000423_zr_c07_o_q1_',\n",
    "    'https://irsa.ipac.caltech.edu/ibe/data/ztf/products/sci/2022/1120/493183/ztf_20221120493183_000626_zr_c12_o_q2_',\n",
    "    'https://irsa.ipac.caltech.edu/ibe/data/ztf/products/sci/2021/0218/206262/ztf_20210218206262_000811_zr_c16_o_q4_',\n",
    "    'https://irsa.ipac.caltech.edu/ibe/data/ztf/products/sci/2022/0831/366910/ztf_20220831366910_000829_zi_c10_o_q4_',\n",
    "    'https://irsa.ipac.caltech.edu/ibe/data/ztf/products/sci/2022/0301/372245/ztf_20220301372245_000626_zi_c12_o_q2_',\n",
    "    'https://irsa.ipac.caltech.edu/ibe/data/ztf/products/sci/2022/0901/326748/ztf_20220901326748_000829_zg_c10_o_q4_',\n",
    "    'https://irsa.ipac.caltech.edu/ibe/data/ztf/products/sci/2022/1126/507882/ztf_20221126507882_000626_zg_c12_o_q2_',\n",
    "    'https://irsa.ipac.caltech.edu/ibe/data/ztf/products/sci/2018/0831/500891/ztf_20180831500891_000251_zr_c16_o_q4_'\n",
    "]\n",
    "\n",
    "image_names = [\n",
    "    'sciimg.fits',\n",
    "    'mskimg.fits',\n",
    "    'sciimgdaopsfcent.fits',\n",
    "    'sciimgdao.psf',\n",
    "    # 'refimg.fits'\n",
    "]"
   ]
  },
  {
   "cell_type": "code",
   "execution_count": null,
   "metadata": {
    "execution": {
     "iopub.execute_input": "2024-03-11T16:29:51.201452Z",
     "iopub.status.busy": "2024-03-11T16:29:51.200786Z",
     "iopub.status.idle": "2024-03-11T16:29:54.630532Z",
     "shell.execute_reply": "2024-03-11T16:29:54.629621Z",
     "shell.execute_reply.started": "2024-03-11T16:29:51.201420Z"
    },
    "id": "UhuQCESP3UkP",
    "outputId": "76aa3a39-9a4b-4586-f446-402bbdedc778"
   },
   "outputs": [],
   "source": [
    "for prefix in prefixes:\n",
    "    for image_name in image_names:\n",
    "        name = prefix + image_name\n",
    "        result = subprocess.run(['wget', f'{name}'], stdout=subprocess.DEVNULL)\n",
    "        print(result)"
   ]
  },
  {
   "cell_type": "markdown",
   "metadata": {
    "id": "YSVCoJHf3Wnz"
   },
   "source": [
    "The folder `sgp_reconstruction_results` requires the following files to be present before running `run.py`:\n",
    "\n",
    "- `default.conv`\n",
    "- `default.param`\n",
    "- `default.nnw`\n",
    "- File provided as argument to `sextractor_config_file_name` below if using SExtractor instead of sep. (NOTE: The sep version is not tested as effectively as the SExtractor version)."
   ]
  },
  {
   "cell_type": "code",
   "execution_count": null,
   "metadata": {
    "execution": {
     "iopub.execute_input": "2024-03-11T12:41:57.918304Z",
     "iopub.status.busy": "2024-03-11T12:41:57.917203Z",
     "iopub.status.idle": "2024-03-11T12:41:58.449897Z",
     "shell.execute_reply": "2024-03-11T12:41:58.448468Z",
     "shell.execute_reply.started": "2024-03-11T12:41:57.918268Z"
    },
    "id": "zdYCdpj43a2y",
    "outputId": "03a3cf15-e22d-4861-af24-e6d6b76b12dc"
   },
   "outputs": [],
   "source": [
    "from subprocess import Popen, PIPE, CalledProcessError, STDOUT\n",
    "def execute(cmd):\n",
    "    \"\"\"This function is taken from\n",
    "    https://stackoverflow.com/a/28319191\n",
    "    \"\"\"\n",
    "#     logfile = open('sgp_run_all.log', 'a')\n",
    "    with Popen(cmd, stdout=PIPE, bufsize=1, universal_newlines=True, stderr=STDOUT) as p:\n",
    "        for line in p.stdout:\n",
    "            print(line, end='') # process line here\n",
    "\n",
    "    if p.returncode != 0:\n",
    "        raise CalledProcessError(p.returncode, p.args)\n",
    "\n",
    "for prefix in prefixes:\n",
    "    command = [\n",
    "        'python3', 'run.py', '--data_path_sciimg', f'/kaggle/working/{prefix.split(\"/\")[-1]}sciimg.fits',\n",
    "        '--data_path_psf', f'/kaggle/working/{prefix.split(\"/\")[-1]}sciimgdaopsfcent.fits',\n",
    "        '--init_recon', '2', '--stop_criterion', '3', '--use_subdiv', '--subdiv_size', '512', '--subdiv_overlap', '10',\n",
    "        '--use_sextractor', '--sextractor_config_file_name', 'sextractor_config.fits_scat_sextractor.sex',\n",
    "        '--use_subdiv', '--add_bkg_to_deconvolved', '--interpolate_bad_pixels',\n",
    "        '--tol_convergence', '1e-4', '--reconstruct_full_image_from_subdivisions',\n",
    "        # '--pixel_mask', '/kaggle/working/ztf_20180831500891_000251_zr_c16_o_q4_mskimg.fits',  # todo: how to use this?\n",
    "        '--perform_catalog_crossmatching'\n",
    "    ]\n",
    "\n",
    "    execute(command)"
   ]
  },
  {
   "cell_type": "markdown",
   "metadata": {
    "id": "4kTKpYUQVyuB"
   },
   "source": [
    "## Outro\n",
    "\n",
    "Need to upload kaggle.json file manually."
   ]
  },
  {
   "cell_type": "code",
   "execution_count": null,
   "metadata": {
    "id": "Jeff8ePEVfnJ"
   },
   "outputs": [],
   "source": [
    "# !chmod 600 /root/.kaggle/kaggle.json"
   ]
  },
  {
   "cell_type": "code",
   "execution_count": null,
   "metadata": {
    "id": "3O69UoNUUnq4"
   },
   "outputs": [],
   "source": [
    "# !mv kaggle.json /root/.kaggle"
   ]
  },
  {
   "cell_type": "code",
   "execution_count": null,
   "metadata": {
    "id": "Q6COjaLGVyRs"
   },
   "outputs": [],
   "source": [
    "# !kaggle datasets init -p /kaggle/working/sgp_reconstruction_results"
   ]
  },
  {
   "cell_type": "code",
   "execution_count": null,
   "metadata": {
    "id": "Gl4RZO1sWDNk"
   },
   "outputs": [],
   "source": [
    "# !kaggle datasets create -p /kaggle/working/sgp_reconstruction_results"
   ]
  },
  {
   "cell_type": "code",
   "execution_count": null,
   "metadata": {
    "id": "x079eL0tfGjS"
   },
   "outputs": [],
   "source": [
    "# !mv kaggle.json /root/.kaggle"
   ]
  },
  {
   "cell_type": "code",
   "execution_count": 1,
   "metadata": {
    "execution": {
     "iopub.execute_input": "2024-03-12T03:55:15.336766Z",
     "iopub.status.busy": "2024-03-12T03:55:15.336401Z",
     "iopub.status.idle": "2024-03-12T03:55:16.929650Z",
     "shell.execute_reply": "2024-03-12T03:55:16.928419Z",
     "shell.execute_reply.started": "2024-03-12T03:55:15.336734Z"
    },
    "id": "h_C5GUlNfM23"
   },
   "outputs": [
    {
     "name": "stdout",
     "output_type": "stream",
     "text": [
      "Traceback (most recent call last):\n",
      "  File \"/opt/conda/bin/kaggle\", line 5, in <module>\n",
      "    from kaggle.cli import main\n",
      "  File \"/opt/conda/lib/python3.10/site-packages/kaggle/__init__.py\", line 23, in <module>\n",
      "    api.authenticate()\n",
      "  File \"/opt/conda/lib/python3.10/site-packages/kaggle/api/kaggle_api_extended.py\", line 403, in authenticate\n",
      "    raise IOError('Could not find {}. Make sure it\\'s located in'\n",
      "OSError: Could not find kaggle.json. Make sure it's located in /root/.kaggle. Or use the environment method.\n"
     ]
    }
   ],
   "source": [
    "!kaggle kernels output yashg1002/ztf-deconvolution-run -p /kaggle/working/ztf_deconv_results"
   ]
  },
  {
   "cell_type": "code",
   "execution_count": null,
   "metadata": {},
   "outputs": [],
   "source": []
  }
 ],
 "metadata": {
  "colab": {
   "provenance": []
  },
  "kaggle": {
   "accelerator": "none",
   "dataSources": [],
   "dockerImageVersionId": 30664,
   "isGpuEnabled": false,
   "isInternetEnabled": true,
   "language": "python",
   "sourceType": "notebook"
  },
  "kernelspec": {
   "display_name": "Python 3 (ipykernel)",
   "language": "python",
   "name": "python3"
  },
  "language_info": {
   "codemirror_mode": {
    "name": "ipython",
    "version": 3
   },
   "file_extension": ".py",
   "mimetype": "text/x-python",
   "name": "python",
   "nbconvert_exporter": "python",
   "pygments_lexer": "ipython3",
   "version": "3.8.10"
  }
 },
 "nbformat": 4,
 "nbformat_minor": 4
}
